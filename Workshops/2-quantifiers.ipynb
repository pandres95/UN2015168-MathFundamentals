{
  "cells": [
    {
      "cell_type": "markdown",
      "source": [
        "# Fundamentos de Matemáticas\n",
        "## Taller 3"
      ],
      "metadata": {}
    },
    {
      "cell_type": "markdown",
      "source": [
        "* Sea $U = \\{0, 1, 2, 3, 4, 5\\}$, determine el valor de verdad de las siguientes\n",
        "proposiciones. (Justificar)\n",
        "\n",
        "1. $\\forall y (y + 4 \\lt 11)$\n",
        "2. $\\exists z (x ^ 3 = 1)$\n",
        "3. $\\forall x (x + 4)$\n",
        "4. $\\exists y (y ^ 3 = 216)$\n",
        "5. $\\forall x \\exists y (x + y = x)$\n",
        "6. $\\exists x \\forall y (x - y = 0)$\n",
        "7. $\\exists y ((x + 1 = 10) \\vee (2x = 4)$\n",
        "8. $\\forall x \\forall y [(x + y \\lt 5) \\to (x + y \\lt 8)]$"
      ],
      "metadata": {
        "collapsed": false,
        "outputHidden": false,
        "inputHidden": false
      }
    },
    {
      "cell_type": "markdown",
      "source": [
        "* Sea $U_1 := \\mathbb{N}$, $U_2 := \\mathbb{Z}$, $U_3 := \\mathbb{Q}$, y $U_4 := \\mathbb{R}$. Determine si las siguientes afirmaciones son verdaderas o falsas en cada uno de los anteriores universos, justificando su respuesta.\n",
        "\n",
        "1. Para todo $x$ y todo $y$, existe un $z$ tal que $x - y = z$.\n",
        "2. Para todo $x$ existe un $y$ tal que $x + y = y + x = 0$.\n",
        "3. "
      ],
      "metadata": {}
    }
  ],
  "metadata": {
    "kernel_info": {
      "name": "python3"
    },
    "language_info": {
      "name": "python",
      "version": "3.6.5",
      "mimetype": "text/x-python",
      "codemirror_mode": {
        "name": "ipython",
        "version": 3
      },
      "pygments_lexer": "ipython3",
      "nbconvert_exporter": "python",
      "file_extension": ".py"
    },
    "kernelspec": {
      "name": "python3",
      "language": "python",
      "display_name": "Python 3"
    },
    "nteract": {
      "version": "0.11.7"
    }
  },
  "nbformat": 4,
  "nbformat_minor": 4
}